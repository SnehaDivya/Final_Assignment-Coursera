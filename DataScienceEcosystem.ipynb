{
 "cells": [
  {
   "cell_type": "markdown",
   "id": "03d33ff4",
   "metadata": {},
   "source": [
    "# Data Science Tools and Ecosystem"
   ]
  },
  {
   "cell_type": "markdown",
   "id": "bf267cfe",
   "metadata": {},
   "source": [
    "**Objectives:**\n",
    "\n",
    "Listing popular languages for datascience.\n",
    "- Python\n",
    "- sql\n",
    "- R\n",
    "\n",
    "Listing popular tools for DataScience\n",
    "- TensorFlow\n",
    "- Weka\n",
    "- Excel\n",
    "- Apache Spark\n",
    "\n",
    "Learning about R language\n",
    "- R is a statistical programming language\n",
    "- For data manipulation and Machine Learning\n",
    "- R libraries\n",
    "  * dplyr\n",
    "  * stringr\n",
    "  * ggplot\n",
    "  * caret\n",
    "  \n",
    "Learning about Git and GitHub \n",
    "- version control system\n",
    "- SSH protocol\n",
    "- Fork\n",
    "- Pull request(PR)"
   ]
  },
  {
   "cell_type": "markdown",
   "id": "fbec2abe",
   "metadata": {},
   "source": [
    "In this notebook, Data Science Tools and Ecosystem are summarized."
   ]
  },
  {
   "cell_type": "markdown",
   "id": "2ecaa1f3",
   "metadata": {},
   "source": [
    "Some of the popular languages that Data Scientists use are:\n",
    "\n",
    "1. Python\n",
    "2. R\n",
    "3. C++\n",
    "4. Scala\n",
    "5. Java\n",
    "6. Julia\n",
    "7. SQL\n",
    "8. php\n",
    "9. go\n",
    "10. Ruby\n"
   ]
  },
  {
   "cell_type": "markdown",
   "id": "025ca528",
   "metadata": {},
   "source": [
    "Some of the commonly used libraries used by Data Scientists include:\n",
    "\n",
    "1. pyTorch\n",
    "2. TensorFlow\n",
    "3. MatplotLib\n",
    "4. SciKit - learns\n",
    "5. ggplot"
   ]
  },
  {
   "cell_type": "markdown",
   "id": "f7af0759",
   "metadata": {},
   "source": [
    "|Data Science Tools|\n",
    "------------------------\n",
    "Weka\n",
    "Jupyter Notebook\n",
    "Apache spark\n",
    "TensorFlow"
   ]
  },
  {
   "cell_type": "markdown",
   "id": "8e2122de",
   "metadata": {},
   "source": [
    "### Below are a few examples of evaluating arithmetic expressions in Python"
   ]
  },
  {
   "cell_type": "code",
   "execution_count": 1,
   "id": "4395956a",
   "metadata": {},
   "outputs": [
    {
     "data": {
      "text/plain": [
       "17"
      ]
     },
     "execution_count": 1,
     "metadata": {},
     "output_type": "execute_result"
    }
   ],
   "source": [
    "#This a simple arithmetic expression to mutiply then add integers\n",
    "\n",
    "(3*4)+5"
   ]
  },
  {
   "cell_type": "code",
   "execution_count": 2,
   "id": "67858085",
   "metadata": {},
   "outputs": [
    {
     "data": {
      "text/plain": [
       "3.3333333333333335"
      ]
     },
     "execution_count": 2,
     "metadata": {},
     "output_type": "execute_result"
    }
   ],
   "source": [
    "#This will convert 200 minutes to hours by diving by 60\n",
    "\n",
    "200/60"
   ]
  },
  {
   "cell_type": "markdown",
   "id": "30c1d5ed",
   "metadata": {},
   "source": [
    "## Author\n",
    "\n",
    "Divyashree.N"
   ]
  },
  {
   "cell_type": "code",
   "execution_count": null,
   "id": "a96cf161",
   "metadata": {},
   "outputs": [],
   "source": []
  },
  {
   "cell_type": "code",
   "execution_count": null,
   "id": "aa896d60",
   "metadata": {},
   "outputs": [],
   "source": []
  }
 ],
 "metadata": {
  "kernelspec": {
   "display_name": "Python 3 (ipykernel)",
   "language": "python",
   "name": "python3"
  },
  "language_info": {
   "codemirror_mode": {
    "name": "ipython",
    "version": 3
   },
   "file_extension": ".py",
   "mimetype": "text/x-python",
   "name": "python",
   "nbconvert_exporter": "python",
   "pygments_lexer": "ipython3",
   "version": "3.11.4"
  }
 },
 "nbformat": 4,
 "nbformat_minor": 5
}
